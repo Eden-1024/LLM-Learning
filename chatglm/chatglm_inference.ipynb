{
 "cells": [
  {
   "cell_type": "markdown",
   "id": "fc5bde60-1899-461d-8083-3ee04ac7c099",
   "metadata": {},
   "source": [
    "# 模型推理 - 使用 QLoRA 微调后的 ChatGLM-6B"
   ]
  },
  {
   "cell_type": "code",
   "execution_count": 4,
   "id": "3292b88c-91f0-48d2-91a5-06b0830c7e70",
   "metadata": {},
   "outputs": [],
   "source": [
    "import torch\n",
    "from transformers import AutoModel, AutoTokenizer, BitsAndBytesConfig\n",
    "\n",
    "# 模型ID或本地路径\n",
    "model_name_or_path = 'THUDM/chatglm3-6b'"
   ]
  },
  {
   "cell_type": "code",
   "execution_count": 5,
   "id": "9f81454c-24b2-4072-ab05-b25f9b120ae6",
   "metadata": {},
   "outputs": [
    {
     "name": "stderr",
     "output_type": "stream",
     "text": [
      "Loading checkpoint shards: 100%|██████████| 7/7 [00:04<00:00,  1.44it/s]\n"
     ]
    }
   ],
   "source": [
    "_compute_dtype_map = {\n",
    "    'fp32': torch.float32,\n",
    "    'fp16': torch.float16,\n",
    "    'bf16': torch.bfloat16\n",
    "}\n",
    "\n",
    "# QLoRA 量化配置\n",
    "q_config = BitsAndBytesConfig(load_in_4bit=True,\n",
    "                              bnb_4bit_quant_type='nf4',\n",
    "                              bnb_4bit_use_double_quant=True,\n",
    "                              bnb_4bit_compute_dtype=_compute_dtype_map['bf16'])\n",
    "\n",
    "# 加载量化后模型(与微调的 revision 保持一致）\n",
    "base_model = AutoModel.from_pretrained(model_name_or_path,\n",
    "                                      quantization_config=q_config,\n",
    "                                      device_map='auto',\n",
    "                                      trust_remote_code=True,\n",
    "                                      revision='b098244')"
   ]
  },
  {
   "cell_type": "code",
   "execution_count": 6,
   "id": "d488846f-41bb-4fe6-9f09-0f392f3b39e6",
   "metadata": {},
   "outputs": [
    {
     "data": {
      "text/plain": [
       "ChatGLMForConditionalGeneration(\n",
       "  (transformer): ChatGLMModel(\n",
       "    (embedding): Embedding(\n",
       "      (word_embeddings): Embedding(65024, 4096)\n",
       "    )\n",
       "    (rotary_pos_emb): RotaryEmbedding()\n",
       "    (encoder): GLMTransformer(\n",
       "      (layers): ModuleList(\n",
       "        (0-27): 28 x GLMBlock(\n",
       "          (input_layernorm): RMSNorm()\n",
       "          (self_attention): SelfAttention(\n",
       "            (query_key_value): Linear4bit(in_features=4096, out_features=4608, bias=True)\n",
       "            (core_attention): CoreAttention(\n",
       "              (attention_dropout): Dropout(p=0.0, inplace=False)\n",
       "            )\n",
       "            (dense): Linear4bit(in_features=4096, out_features=4096, bias=False)\n",
       "          )\n",
       "          (post_attention_layernorm): RMSNorm()\n",
       "          (mlp): MLP(\n",
       "            (dense_h_to_4h): Linear4bit(in_features=4096, out_features=27392, bias=False)\n",
       "            (dense_4h_to_h): Linear4bit(in_features=13696, out_features=4096, bias=False)\n",
       "          )\n",
       "        )\n",
       "      )\n",
       "      (final_layernorm): RMSNorm()\n",
       "    )\n",
       "    (output_layer): Linear(in_features=4096, out_features=65024, bias=False)\n",
       "  )\n",
       ")"
      ]
     },
     "execution_count": 6,
     "metadata": {},
     "output_type": "execute_result"
    }
   ],
   "source": [
    "base_model.requires_grad_(False)\n",
    "base_model.eval()"
   ]
  },
  {
   "cell_type": "code",
   "execution_count": 7,
   "id": "7e4270e2-c827-450e-bf27-7cb43a97f8f7",
   "metadata": {},
   "outputs": [],
   "source": [
    "tokenizer = AutoTokenizer.from_pretrained(model_name_or_path,\n",
    "                                          trust_remote_code=True,\n",
    "                                          revision='b098244')"
   ]
  },
  {
   "cell_type": "markdown",
   "id": "63408b60-876e-4eda-b501-90f842cca002",
   "metadata": {},
   "source": [
    "## 使用原始 ChatGLM3-6B 模型"
   ]
  },
  {
   "cell_type": "code",
   "execution_count": 8,
   "id": "6ef405cf-7d77-41a6-a07b-c6c768ee30cf",
   "metadata": {},
   "outputs": [],
   "source": [
    "input_text = \"解释下乾卦是什么？\""
   ]
  },
  {
   "cell_type": "code",
   "execution_count": 9,
   "id": "566ed80e-828b-4105-b6e6-49de8905c991",
   "metadata": {},
   "outputs": [],
   "source": [
    "response, history = base_model.chat(tokenizer, query=input_text)"
   ]
  },
  {
   "cell_type": "code",
   "execution_count": 10,
   "id": "6cee217e-f276-4c2f-94e7-69afb6d541a6",
   "metadata": {},
   "outputs": [
    {
     "name": "stdout",
     "output_type": "stream",
     "text": [
      "乾卦是八卦之一，也是八宫图之一，它代表了天、干燥、刚强、积极、行动等含义。乾卦是由两个阴爻夹一个阳爻构成，象征着天宇的广阔和阳刚之气的存在。\n",
      "\n",
      "在八宫图中，乾卦位于北方，与事业、努力、积极、刚强、独立等有关。它代表了一个积极向上的态度，提示着你应该勇往直前，充满自信地迎接挑战。同时，乾卦也提醒要维护自己的尊严和自尊，保持刚强和坚定的态度。\n",
      "\n",
      "在易经中，乾卦的卦辞是“元、亨、利、贞”，这意味着它是一种正义、积极、正确的态度和行为。乾卦还与“八卦”中的“乾”有关，乾卦所代表的能量和态度是八卦中最为积极和阳性的。\n"
     ]
    }
   ],
   "source": [
    "print(response)"
   ]
  },
  {
   "cell_type": "markdown",
   "id": "3db3245d-037d-4fe5-ac0d-cc5e82742399",
   "metadata": {},
   "source": [
    "#### 询问一个64卦相关问题（应该不在 ChatGLM3-6B 预训练数据中）"
   ]
  },
  {
   "cell_type": "code",
   "execution_count": 11,
   "id": "bbe1395f-39c2-4759-ae81-90ef3bcfae47",
   "metadata": {},
   "outputs": [
    {
     "name": "stdout",
     "output_type": "stream",
     "text": [
      "讼卦是八卦之一，它代表了诉讼、争端、矛盾、困扰等含义。讼卦是由两个阳爻夹一个阴爻构成，象征着阳刚之气的存在，但也暗示着矛盾和争端的存在。\n",
      "\n",
      "在八宫图中，讼卦位于西南方，与法律、法规、公正、争端、矛盾等有关。它代表了一种公正、公平的态度，提示着你应该以法律为依据，坚持公正和正义，解决矛盾和争端。\n",
      "\n",
      "在易经中，讼卦的卦辞是“元、亨、利、贞”，这意味着它是一种正义、正确、有益的态度和行为。讼卦也提醒要通过法律和公正来解决矛盾和争端，以维护社会秩序和公正。\n"
     ]
    }
   ],
   "source": [
    "response, history = base_model.chat(tokenizer, query=\"周易中的讼卦是什么？\", history=history)\n",
    "print(response)"
   ]
  },
  {
   "cell_type": "code",
   "execution_count": null,
   "id": "342b3659-d644-4232-8af1-f092e733bf40",
   "metadata": {},
   "outputs": [],
   "source": []
  },
  {
   "cell_type": "markdown",
   "id": "6d23e720-dee1-4b43-a298-0cbe1d8ad11d",
   "metadata": {},
   "source": [
    "## 使用微调后的 ChatGLM3-6B"
   ]
  },
  {
   "cell_type": "markdown",
   "id": "6bcfc5a2-41ed-405c-a31c-dca4fbb67425",
   "metadata": {},
   "source": [
    "### 加载 QLoRA Adapter(Epoch=3, automade-dataset(fixed)) - 请根据训练时间戳修改 timestamp "
   ]
  },
  {
   "cell_type": "code",
   "execution_count": 12,
   "id": "9c767c67-42aa-459c-a096-e226226c359b",
   "metadata": {},
   "outputs": [],
   "source": [
    "from peft import PeftModel, PeftConfig\n",
    "\n",
    "epochs = 5\n",
    "# timestamp = \"20240118_164514\"\n",
    "timestamp = \"20250814_163205\"\n",
    "\n",
    "peft_model_path = f\"models/{model_name_or_path}-epoch{epochs}-{timestamp}\"\n",
    "\n",
    "config = PeftConfig.from_pretrained(peft_model_path)\n",
    "qlora_model = PeftModel.from_pretrained(base_model, peft_model_path)\n",
    "training_tag=f\"ChatGLM3-6B(Epoch={epochs}, automade-dataset(fixed))-{timestamp}\""
   ]
  },
  {
   "cell_type": "code",
   "execution_count": 13,
   "id": "24a5d22b-2c94-4dcf-8135-18d78f98755f",
   "metadata": {},
   "outputs": [],
   "source": [
    "def compare_chatglm_results(query, base_model, qlora_model, training_tag):\n",
    "    base_response, base_history = base_model.chat(tokenizer, query)\n",
    "\n",
    "    inputs = tokenizer(query, return_tensors=\"pt\").to(0)\n",
    "    ft_out = qlora_model.generate(**inputs, max_new_tokens=512)\n",
    "    ft_response = tokenizer.decode(ft_out[0], skip_special_tokens=True)\n",
    "    \n",
    "    print(f\"问题：{query}\\n\\n原始输出：\\n{base_response}\\n\\n\\n微调后（{training_tag}）：\\n{ft_response}\")\n",
    "    return base_response, ft_response"
   ]
  },
  {
   "cell_type": "markdown",
   "id": "062cd62e-69f9-4605-8c83-e468f71ef3d3",
   "metadata": {},
   "source": [
    "### 微调前后效果对比"
   ]
  },
  {
   "cell_type": "code",
   "execution_count": 14,
   "id": "7db16cd5-0bb5-44ab-b861-d9ca6a4970c2",
   "metadata": {},
   "outputs": [
    {
     "name": "stdout",
     "output_type": "stream",
     "text": [
      "问题：解释下乾卦是什么？\n",
      "\n",
      "原始输出：\n",
      "{'name': '乾卦是周易中的一卦，由六个阳爻组成，象征着天。它所代表的是刚健、健行、刚健不屈的意境。乾卦的核心哲学是：天道刚健，运行不已，君子观此卦象，从而以天为法，自强不息。', 'content': '\\n乾卦象征天，为大通而至正。得此卦者，名利双收，应把握机会，争取成果。然而，切勿过于骄傲自满，而应保持谦逊、冷静和警惕。在事业、经商、求名等方面，乾卦皆暗示着大吉大利，但也警示着必须坚持正道、修养德行，方能永远亨通。\\n\\n在婚恋方面，乾卦提示着阳盛阴衰，但也强调刚柔相济，相互补足，形成美满的结果。在决策方面，则是强调刚健、正直、公允，自强不息的实质，需要修养德行、坚定信念，方能克服困难，消除灾难。'}\n",
      "\n",
      "\n",
      "微调后（ChatGLM3-6B(Epoch=5, automade-dataset(fixed))-20250814_163205）：\n",
      "[gMASK]sop 解释下乾卦是什么？ 在周易中，乾卦是六十四卦之首，由六个阳爻组成，象征着天。它所代表的是刚健、健行、刚健不屈的意境。乾卦的核心哲学是：天道刚健，运行不已，君子观此卦象，从而以天为法，自强不息。\n",
      "\n",
      "乾卦象征天，为大通而至正。得此卦者，名利双收，应把握机会，争取成果。然而，切勿过于骄傲自满，而应保持谦逊、冷静和警惕。在事业、经商、求名等方面，乾卦皆暗示着大吉大利，但也警示着必须坚持正道、修养德行，方能永远亨通。\n",
      "\n",
      "在婚恋方面，乾卦提示着阳盛阴衰，但也强调刚柔相济，相互补足，形成美满的结果。在决策方面，则是强调刚健、正直、公允，自强不息的实质，需要修养德行、坚定信念，方能克服困难，消除灾难。\n"
     ]
    }
   ],
   "source": [
    "base_response, ft_response = compare_chatglm_results(\"解释下乾卦是什么？\", base_model, qlora_model, training_tag)"
   ]
  },
  {
   "cell_type": "code",
   "execution_count": 15,
   "id": "7aa074bd-c819-4533-a10f-f3184dc9549a",
   "metadata": {},
   "outputs": [
    {
     "name": "stdout",
     "output_type": "stream",
     "text": [
      "问题：周易中的讼卦是什么\n",
      "\n",
      "原始输出：\n",
      "在周易中，讼卦是一个充满警示的卦象。它由上卦乾（天）和下卦坎（水）组成，代表着天与水背道而驰，形成争讼的局面。虽然事情开始时有利可图，但必须警惕戒惧，因为中间虽然吉利，但最终会带来凶险。对于涉及大川，涉水渡河的行动不利。因此，君子观此卦象，应当慎之又慎，杜绝争讼之事，并在谋事之初谨慎行事。讼卦的核心哲学是要避免争讼，退而让人，求得化解，安于正理，方可避免意外之灾。在事业上，务必避免介入诉讼纠纷的争执之中，与其这样，不如退而让人。即使最终获胜，也难免得失不均。经商方面，要坚持公正、公平、互利的原则，避免冲突，这样会有好结果。而对于求名、婚恋和决策，也都需要慎重行事，避免盲目追求，退让让人，可助事业、婚姻和决策的发展。\n",
      "\n",
      "\n",
      "微调后（ChatGLM3-6B(Epoch=5, automade-dataset(fixed))-20250814_163205）：\n",
      "[gMASK]sop 周易中的讼卦是什么样子 讼卦是一个充满警示的卦象。它由上卦乾（天）和下卦坎（水）组成，代表着天与水背道而驰，形成争讼的局面。虽然事情开始时有利可图，但必须警惕戒惧，因为中间虽然吉利，但最终会带来凶险。对于涉及大川，涉水渡河的行动不利。因此，君子观此卦象，应当慎之又慎，杜绝争讼之事，并在谋事之初谨慎行事。讼卦的核心哲学是要避免争讼，退而让人，求得化解，安于正理，方可避免意外之灾。在事业上，务必避免介入诉讼纠纷的争执之中，与其这样，不如退而让人。即使最终获胜，也难免得失不均。经商方面，要坚持公正、公平、互利的原则，避免冲突，这样会有好结果。而对于求名、婚恋和决策，也都需要慎重行事，避免盲目追求，退让让人，可助事业、婚姻和决策的发展。\n"
     ]
    }
   ],
   "source": [
    "base_response, ft_response = compare_chatglm_results(\"周易中的讼卦是什么\", base_model, qlora_model, training_tag)"
   ]
  },
  {
   "cell_type": "code",
   "execution_count": 16,
   "id": "d5a31554-40f1-4e6e-8240-f207c4a61b42",
   "metadata": {},
   "outputs": [
    {
     "name": "stdout",
     "output_type": "stream",
     "text": [
      "问题：师卦是什么？\n",
      "\n",
      "原始输出：\n",
      "{'name': '师卦是一个卜卦，在周易卦象中，它由下卦乾和上卦坎组成。坎象征着云，乾象征着天，云聚于天，形成了云雾之间的景象。在这个卦象中，云雾即将消散，君子应当等待时机，观望天象，以行天下。', 'content': '\\n师卦的解释预示着云雾即将消散，天象将明，君子观此卦象，等待时机，行天下。在事业方面，预示着 initial success，但必须警惕风险，及时止损，或 else将失去投资。对于经商，初期会有利，但务必要注意风险，不可轻率行事。\\n\\n师卦的核心哲学是：行事必须等待时机，不能急功近利，应观天象行事，随机应变。在事业和经商中，必须注意风险和机会，及时止损，等待时机，不能急功近利。'}\n",
      "\n",
      "\n",
      "微调后（ChatGLM3-6B(Epoch=5, automade-dataset(fixed))-20250814_163205）：\n",
      "[gMASK]sop 师卦是什么？ 在周易中，师卦是一个由坎卦（水）和坤卦（地）相叠而成的异卦。这一卦象代表着军队的力量和军情的总指挥，预示着吉祥无灾。象辞中描述了地中有水的情景，寓意着君子应当像大地一样容纳和畜养大众。师卦的解释强调选择德高望重的长者来统率军队，才能获得吉祥无咎。另外，师卦也象征着困难重重，需要包容别人、艰苦努力，及时行事，严于律已。在事业、经商、求名、婚恋等方面的决策中，都需要警惕潜在敌人，小心谨慎，合作与决断兼顾，方能成功。\n"
     ]
    }
   ],
   "source": [
    "base_response, ft_response = compare_chatglm_results(\"师卦是什么？\", base_model, qlora_model, training_tag)"
   ]
  },
  {
   "cell_type": "code",
   "execution_count": null,
   "id": "abae8a8e-00bb-4801-931a-c942206f0e2a",
   "metadata": {},
   "outputs": [],
   "source": []
  },
  {
   "cell_type": "markdown",
   "id": "7d48183f-f1dc-4171-b217-e269a5b9c1b9",
   "metadata": {},
   "source": [
    "## 其他模型（手动数据或训练参数）\n",
    "\n",
    "#### 加载 QLoRA Adapter(Epoch=50, handmade-dataset)"
   ]
  },
  {
   "cell_type": "code",
   "execution_count": 17,
   "id": "46a0e881-a4f3-43b2-8a61-0ec543a538a7",
   "metadata": {},
   "outputs": [],
   "source": [
    "from peft import PeftModel, PeftConfig\n",
    "\n",
    "handmade_epochs = 50\n",
    "handmade_timestamp = \"20250817_201445\"\n",
    "handmade_peft_model_path = f\"models/{model_name_or_path}-epoch{handmade_epochs}-{handmade_timestamp}\"\n",
    "\n",
    "config = PeftConfig.from_pretrained(handmade_peft_model_path)\n",
    "handmade_qlora_model_e3 = PeftModel.from_pretrained(base_model, handmade_peft_model_path)\n",
    "handmade_training_tag = f\"ChatGLM3-6B(Epoch=50, handmade-dataset)\""
   ]
  },
  {
   "cell_type": "code",
   "execution_count": 19,
   "id": "1f53196e-f523-4105-b04a-9ddab349cce1",
   "metadata": {},
   "outputs": [
    {
     "name": "stdout",
     "output_type": "stream",
     "text": [
      "问题：解释下乾卦是什么？\n",
      "\n",
      "原始输出：\n",
      "乾卦是八卦之一，代表一种强调积极、力量、刚健的哲学观念。乾卦由三个阳爻夹一个阴爻构成，象征天、强调象征力量和权威，代表宇宙中充满活力与前进的意象。在五行中，乾卦代表木，与象征归纳、组织、规划有关，强调经营与领导能力。\n",
      "\n",
      "\n",
      "微调后（ChatGLM3-6B(Epoch=5, automade-dataset(fixed))-20250814_163205）：\n",
      "[gMASK]sop 解释下乾卦是什么？ 乾卦象征天，象征象征，代表强大，启示启示，启示启示，启示启示，象征象征，象征象征象征象征象征，象征象征象征象征象征象征象征象征象征象征象征象征象征象征象征象征象征象征象征象征象征象征象征象征象征象征象征象征象征象征象征象征象征象征象征象征象征象征象征象征象征象征象征象征象征象征象征象征象征象征象征象征象征象征象征象征象征象征象征象征象征象征象征象征象征象征象征象征象征象征象征象征象征象征象征象征象征象征象征象征象征象征象征象征象征象征象征象征象征象征象征象征象征象征象征象征象征象征象征象征象征象征象征象征象征象征象征象征象征象征象征象征象征象征象征象征象征象征象征象征象征象征象征象征象征象征象征象征象征象征象征象征象征象征象征象征象征象征象征象征象征象征象征象征象征象征象征象征象征象征象征象征象征象征象征象征象征象征象征象征象征象征象征象征象征象征象征象征象征象征象征象征象征象征象征象征象征象征象征象征象征象征象征象征象征象征象征象征象征象征象征象征象征象征象征象征象征象征象征象征象征象征象征象征象征象征象征象征象征象征象征象征象征象征象征象征象征象征象征象征象征象征象征象征象征象征象征象征象征象征象征象征象征象征象征象征象征象征象征象征象征象征象征象征象征象征象征象征象征象征象征象征象征象征象征象征象征象征象征象征象征象征象征象征象征象征象征象征象征象征象征象征象征象征象征象征象征象征象征象征象征象征象征象征象征象征象征象征象征象征象征象征象征象征象征象征象征象征象征象征象征象征象征象征象征象征象征象征象征象征象征象征象征象征象征象征象征象征象征象征象征象征象征象征象征象征象征象征象征象征象征象征象征象征象征象征象征象征象征象征象征象征象征象征象征象征象征象征象征象征象征象征象征象征象征象征象征象征象征象征象征象征象征象征象征象征象征象征象征象征象征象征象征象征象征象征象征象征象征象征象征象征象征象征象征象征象征象征象征象征象征象征象征象征象征象征象征象征象征象征象征象征象征象征象征象征象征象征象征象征象征象征象征象征象征象征象征象征象征象征象征象征象征象征象征象征象征象征象征象征象征象征象征象征象征象征象征象征象征象征象征象征象征象征象征象征象征象征象征象征象征象征象征象征象征象征象征象征象征象征象征象征象征象征象征象征象征象征象征象征象征象征象征象征象征象征象征象征象征象征象征象征\n"
     ]
    }
   ],
   "source": [
    "base_response, ft_response = compare_chatglm_results(\"解释下乾卦是什么？\", base_model, handmade_qlora_model_e3, training_tag)"
   ]
  },
  {
   "cell_type": "code",
   "execution_count": 20,
   "id": "046306ad-6afe-4ec9-ae55-3df04f61d8f5",
   "metadata": {},
   "outputs": [
    {
     "name": "stdout",
     "output_type": "stream",
     "text": [
      "问题：地水师卦是什么？\n",
      "\n",
      "原始输出：\n",
      "地水师卦 象征地牢与水泽，象征坚毅与智慧，启示地水师卦象征坚毅与智慧，启示面对困境需坚定信念，依赖自己的智慧与力量。\n",
      "\n",
      "\n",
      "微调后（ChatGLM3-6B(Epoch=5, automade-dataset(fixed))-20250814_163205）：\n",
      "[gMASK]sop 地水师卦是什么？ 地水师卦象征地象征象征象征象征象征象征象征象征象征象征象征象征象征象征象征象征象征象征象征象征象征象征象征象征象征象征象征象征象征象征象征象征象征象征象征象征象征象征象征象征象征象征象征象征象征象征象征象征象征象征象征象征象征象征象征象征象征象征象征象征象征象征象征象征象征象征象征象征象征象征象征象征象征象征象征象征象征象征象征象征象征象征象征象征象征象征象征象征象征象征象征象征象征象征象征象征象征象征象征象征象征象征象征象征象征象征象征象征象征象征象征象征象征象征象征象征象征象征象征象征象征象征象征象征象征象征象征象征象征象征象征象征象征象征象征象征象征象征象征象征象征象征象征象征象征象征象征象征象征象征象征象征象征象征象征象征象征象征象征象征象征象征象征象征象征象征象征象征象征象征象征象征象征象征象征象征象征象征象征象征象征象征象征象征象征象征象征象征象征象征象征象征象征象征象征象征象征象征象征象征象征象征象征象征象征象征象征象征象征象征象征象征象征象征象征象征象征象征象征象征象征象征象征象征象征象征象征象征象征象征象征象征象征象征象征象征象征象征象征象征象征象征象征象征象征象征象征象征象征象征象征象征象征象征象征象征象征象征象征象征象征象征象征象征象征象征象征象征象征象征象征象征象征象征象征象征象征象征象征象征象征象征象征象征象征象征象征象征象征象征象征象征象征象征象征象征象征象征象征象征象征象征象征象征象征象征象征象征象征象征象征象征象征象征象征象征象征象征象征象征象征象征象征象征象征象征象征象征象征象征象征象征象征象征象征象征象征象征象征象征象征象征象征象征象征象征象征象征象征象征象征象征象征象征象征象征象征象征象征象征象征象征象征象征象征象征象征象征象征象征象征象征象征象征象征象征象征象征象征象征象征象征象征象征象征象征象征象征象征象征象征象征象征象征象征象征象征象征象征象征象征象征象征象征象征象征象征象征象征象征象征象征象征象征象征象征象征象征象征象征象征象征象征象征象征象征象征象征象征象征象征象征象征象征象征象征象征象征象征象征象征象征象征象征象征象征象征象征象征象征象征象征象征象征象征象征象征象征象征象征象征象征象征象征象征象征象征象征象征象征象征象征象征象征象征象征象征象征象征象征象征象征象征象征象征象征象征象征象征象征象征象征象征象征象征象征象征象征象征象征象征象征象征象征象征\n"
     ]
    }
   ],
   "source": [
    "base_response, ft_response = compare_chatglm_results(\"地水师卦是什么？\", base_model, handmade_qlora_model_e3, training_tag)"
   ]
  },
  {
   "cell_type": "code",
   "execution_count": 21,
   "id": "2ab3c310-8cc8-428a-91fa-964b7a58df43",
   "metadata": {},
   "outputs": [
    {
     "name": "stdout",
     "output_type": "stream",
     "text": [
      "问题：周易中的讼卦是什么\n",
      "\n",
      "原始输出：\n",
      "周易中的讼卦（象征诉讼）是由乾卦和震卦组合而成，象征诉讼争议，强调双方争论不休，需要通过公正的审判来解决。这个卦提醒人们在处理争议时要有公正态度，遵循法律法规，避免冲突升级。\n",
      "\n",
      "\n",
      "微调后（ChatGLM3-6B(Epoch=5, automade-dataset(fixed))-20250814_163205）：\n",
      "[gMASK]sop 周易中的讼卦是什么？ 周易中的讼卦象征争议与矛盾，强调解决争端需要双方共同协商，强调争议的解决需要公正公平。\n"
     ]
    }
   ],
   "source": [
    "base_response, ft_response = compare_chatglm_results(\"周易中的讼卦是什么\", base_model, handmade_qlora_model_e3, training_tag)"
   ]
  },
  {
   "cell_type": "code",
   "execution_count": null,
   "id": "9cfffcc5-afa6-45c1-985a-a3eb86a0d1c8",
   "metadata": {},
   "outputs": [],
   "source": []
  }
 ],
 "metadata": {
  "kernelspec": {
   "display_name": "eden_venv",
   "language": "python",
   "name": "python3"
  },
  "language_info": {
   "codemirror_mode": {
    "name": "ipython",
    "version": 3
   },
   "file_extension": ".py",
   "mimetype": "text/x-python",
   "name": "python",
   "nbconvert_exporter": "python",
   "pygments_lexer": "ipython3",
   "version": "3.10.18"
  }
 },
 "nbformat": 4,
 "nbformat_minor": 5
}
